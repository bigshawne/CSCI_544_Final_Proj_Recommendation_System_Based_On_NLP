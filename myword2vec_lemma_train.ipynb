{
 "cells": [
  {
   "cell_type": "code",
   "execution_count": 1,
   "id": "584241b9",
   "metadata": {},
   "outputs": [],
   "source": [
    "import json\n",
    "import pandas as pd"
   ]
  },
  {
   "cell_type": "code",
   "execution_count": 2,
   "id": "f7d3351b",
   "metadata": {},
   "outputs": [
    {
     "data": {
      "text/html": [
       "<div>\n",
       "<style scoped>\n",
       "    .dataframe tbody tr th:only-of-type {\n",
       "        vertical-align: middle;\n",
       "    }\n",
       "\n",
       "    .dataframe tbody tr th {\n",
       "        vertical-align: top;\n",
       "    }\n",
       "\n",
       "    .dataframe thead th {\n",
       "        text-align: right;\n",
       "    }\n",
       "</style>\n",
       "<table border=\"1\" class=\"dataframe\">\n",
       "  <thead>\n",
       "    <tr style=\"text-align: right;\">\n",
       "      <th></th>\n",
       "      <th>business_ID</th>\n",
       "      <th>review</th>\n",
       "    </tr>\n",
       "  </thead>\n",
       "  <tbody>\n",
       "    <tr>\n",
       "      <th>0</th>\n",
       "      <td>aKOP4d8UuFoeShiopqOtBQ</td>\n",
       "      <td>[think, place, good, rating, location, big, on...</td>\n",
       "    </tr>\n",
       "    <tr>\n",
       "      <th>1</th>\n",
       "      <td>VHfY59ctsugaOd4vVvUVMQ</td>\n",
       "      <td>[wonderful, staff, delicious, bbq, quick, fril...</td>\n",
       "    </tr>\n",
       "    <tr>\n",
       "      <th>2</th>\n",
       "      <td>bf4J2wsJYWIpmmff2iZTDA</td>\n",
       "      <td>[yes, used, thelonious, monkfish, hipster, chi...</td>\n",
       "    </tr>\n",
       "    <tr>\n",
       "      <th>3</th>\n",
       "      <td>BXDFhzarvzkCfsm-6oQolw</td>\n",
       "      <td>[friends, came, watching, lovely, documentary,...</td>\n",
       "    </tr>\n",
       "    <tr>\n",
       "      <th>4</th>\n",
       "      <td>UqukowIJJh-THhVhlEUy4w</td>\n",
       "      <td>[like, think, boba, frequent, san, gabriel, be...</td>\n",
       "    </tr>\n",
       "    <tr>\n",
       "      <th>...</th>\n",
       "      <td>...</td>\n",
       "      <td>...</td>\n",
       "    </tr>\n",
       "    <tr>\n",
       "      <th>99995</th>\n",
       "      <td>JnnMBFQ60M4MKj5Jn5LyIw</td>\n",
       "      <td>[wary, bars, brighton, allston, undergrad, han...</td>\n",
       "    </tr>\n",
       "    <tr>\n",
       "      <th>99996</th>\n",
       "      <td>Z1lRuV7aA9I-LlD51qFlNQ</td>\n",
       "      <td>[husband, enjoyed, delightful, al, fresco, din...</td>\n",
       "    </tr>\n",
       "    <tr>\n",
       "      <th>99997</th>\n",
       "      <td>qEuMDrWyLN49p1-i6zDsQA</td>\n",
       "      <td>[allure, trivia, night, cent, wings, strong, k...</td>\n",
       "    </tr>\n",
       "    <tr>\n",
       "      <th>99998</th>\n",
       "      <td>69XidCXVzOHgiQssXnZi5w</td>\n",
       "      <td>[came, dinner, last, week, commemorate, moving...</td>\n",
       "    </tr>\n",
       "    <tr>\n",
       "      <th>99999</th>\n",
       "      <td>9yUAuiEFMrX6QnUq-lxgOw</td>\n",
       "      <td>[time, tried, place, meaning, come, months, ho...</td>\n",
       "    </tr>\n",
       "  </tbody>\n",
       "</table>\n",
       "<p>100000 rows × 2 columns</p>\n",
       "</div>"
      ],
      "text/plain": [
       "                  business_ID  \\\n",
       "0      aKOP4d8UuFoeShiopqOtBQ   \n",
       "1      VHfY59ctsugaOd4vVvUVMQ   \n",
       "2      bf4J2wsJYWIpmmff2iZTDA   \n",
       "3      BXDFhzarvzkCfsm-6oQolw   \n",
       "4      UqukowIJJh-THhVhlEUy4w   \n",
       "...                       ...   \n",
       "99995  JnnMBFQ60M4MKj5Jn5LyIw   \n",
       "99996  Z1lRuV7aA9I-LlD51qFlNQ   \n",
       "99997  qEuMDrWyLN49p1-i6zDsQA   \n",
       "99998  69XidCXVzOHgiQssXnZi5w   \n",
       "99999  9yUAuiEFMrX6QnUq-lxgOw   \n",
       "\n",
       "                                                  review  \n",
       "0      [think, place, good, rating, location, big, on...  \n",
       "1      [wonderful, staff, delicious, bbq, quick, fril...  \n",
       "2      [yes, used, thelonious, monkfish, hipster, chi...  \n",
       "3      [friends, came, watching, lovely, documentary,...  \n",
       "4      [like, think, boba, frequent, san, gabriel, be...  \n",
       "...                                                  ...  \n",
       "99995  [wary, bars, brighton, allston, undergrad, han...  \n",
       "99996  [husband, enjoyed, delightful, al, fresco, din...  \n",
       "99997  [allure, trivia, night, cent, wings, strong, k...  \n",
       "99998  [came, dinner, last, week, commemorate, moving...  \n",
       "99999  [time, tried, place, meaning, come, months, ho...  \n",
       "\n",
       "[100000 rows x 2 columns]"
      ]
     },
     "execution_count": 2,
     "metadata": {},
     "output_type": "execute_result"
    }
   ],
   "source": [
    "f = open(\"lemma_train.json\")\n",
    "data = json.load(f)\n",
    "data_items = data.items()\n",
    "data_list = list(data_items)\n",
    "df = pd.DataFrame(data_list,columns=[\"business_ID\",\"review\"])\n",
    "df"
   ]
  },
  {
   "cell_type": "code",
   "execution_count": 3,
   "id": "f9c89af4",
   "metadata": {},
   "outputs": [],
   "source": [
    "# build model with gensim\n",
    "dataset = df['review']\n",
    "sentence = [row for row in dataset]"
   ]
  },
  {
   "cell_type": "markdown",
   "id": "84420447",
   "metadata": {},
   "source": [
    "## 300 dimension word2vec"
   ]
  },
  {
   "cell_type": "code",
   "execution_count": 4,
   "id": "9e6ddbe2",
   "metadata": {},
   "outputs": [
    {
     "data": {
      "text/plain": [
       "(233013753, 245526510)"
      ]
     },
     "execution_count": 4,
     "metadata": {},
     "output_type": "execute_result"
    }
   ],
   "source": [
    "from gensim import models\n",
    "# Set the embedding size to be 300 and the window size to be 5. Can also consider a minimum word count of 1. \n",
    "w2v_model_300 = models.Word2Vec(min_count=1, window=5, vector_size=300)\n",
    "#build vocabulary table\n",
    "w2v_model_300.build_vocab(sentence, progress_per=100000)\n",
    "# train word2vec model\n",
    "w2v_model_300.train(sentence, total_examples=w2v_model_300.corpus_count, epochs=30, report_delay=1)"
   ]
  },
  {
   "cell_type": "code",
   "execution_count": 5,
   "id": "5c8a82ba",
   "metadata": {},
   "outputs": [
    {
     "name": "stdout",
     "output_type": "stream",
     "text": [
      "0.722\n"
     ]
    }
   ],
   "source": [
    "# example_test: excellent ~ outstanding\n",
    "word_similarity1 = w2v_model_300.wv.similarity('outstanding','excellent')\n",
    "print(round(word_similarity1,3))"
   ]
  },
  {
   "cell_type": "code",
   "execution_count": 6,
   "id": "e84c4920",
   "metadata": {},
   "outputs": [
    {
     "name": "stdout",
     "output_type": "stream",
     "text": [
      "Longest sentence length is:  534\n"
     ]
    }
   ],
   "source": [
    "# initialize the embeddings(with padding)\n",
    "print(\"Longest sentence length is: \",max([len(sent) for sent in sentence]))"
   ]
  },
  {
   "cell_type": "code",
   "execution_count": 7,
   "id": "57ee843d",
   "metadata": {},
   "outputs": [
    {
     "name": "stdout",
     "output_type": "stream",
     "text": [
      "70903\n"
     ]
    }
   ],
   "source": [
    "vocab_size = len(w2v_model_300.wv)\n",
    "print(vocab_size)"
   ]
  },
  {
   "cell_type": "code",
   "execution_count": 8,
   "id": "22a578f7",
   "metadata": {},
   "outputs": [],
   "source": [
    "import numpy as np"
   ]
  },
  {
   "cell_type": "code",
   "execution_count": 9,
   "id": "60f0df2d",
   "metadata": {},
   "outputs": [],
   "source": [
    "vocab = list(set([str(word) for sent in sentence for word in sent]))\n",
    "\n",
    "tok_idx = {t: i for i,t in enumerate(vocab)}\n",
    "idx_tok = {i: t for i,t in enumerate(vocab)}"
   ]
  },
  {
   "cell_type": "code",
   "execution_count": 10,
   "id": "e2194bce",
   "metadata": {},
   "outputs": [
    {
     "name": "stdout",
     "output_type": "stream",
     "text": [
      "70903\n"
     ]
    }
   ],
   "source": [
    "print(len(vocab))"
   ]
  },
  {
   "cell_type": "code",
   "execution_count": 11,
   "id": "35293bce",
   "metadata": {},
   "outputs": [],
   "source": [
    "embedding_matrix = np.zeros((vocab_size, 300))\n",
    "count = 0\n",
    "for i, word in idx_tok.items():\n",
    "    if word in w2v_model_300.wv:\n",
    "        embedding_matrix[i] = w2v_model_300.wv[word]\n",
    "    else:\n",
    "        count += 1"
   ]
  },
  {
   "cell_type": "code",
   "execution_count": 12,
   "id": "907c163e",
   "metadata": {},
   "outputs": [
    {
     "data": {
      "text/plain": [
       "(70903, 300)"
      ]
     },
     "execution_count": 12,
     "metadata": {},
     "output_type": "execute_result"
    }
   ],
   "source": [
    "embedding_matrix.shape"
   ]
  },
  {
   "cell_type": "code",
   "execution_count": 13,
   "id": "9462facd",
   "metadata": {},
   "outputs": [
    {
     "data": {
      "text/plain": [
       "array([[ 0.17865475,  0.07290468, -0.05059278, ...,  0.11274458,\n",
       "        -0.03391233,  0.01182021],\n",
       "       [ 0.13963184,  0.02014055, -0.08031757, ..., -0.10294749,\n",
       "         0.06813318, -0.05767412],\n",
       "       [-0.14781737,  0.132543  , -0.05591839, ..., -0.00763279,\n",
       "        -0.00091019,  0.02200993],\n",
       "       ...,\n",
       "       [ 0.07572832,  0.09471691,  0.01944026, ..., -0.00920047,\n",
       "        -0.06536612, -0.06254303],\n",
       "       [ 0.01813478,  0.06530383,  0.10736354, ..., -0.21134418,\n",
       "        -0.27372545, -0.161219  ],\n",
       "       [-0.29662532,  0.0186099 ,  0.09861816, ...,  0.26055321,\n",
       "         0.23418316,  0.10958157]])"
      ]
     },
     "execution_count": 13,
     "metadata": {},
     "output_type": "execute_result"
    }
   ],
   "source": [
    "embedding_matrix"
   ]
  },
  {
   "cell_type": "code",
   "execution_count": 14,
   "id": "93466809",
   "metadata": {},
   "outputs": [],
   "source": [
    "t1 = embedding_matrix.tolist()"
   ]
  },
  {
   "cell_type": "code",
   "execution_count": 15,
   "id": "552a1dff",
   "metadata": {},
   "outputs": [],
   "source": [
    "word_vec = {}\n",
    "for i, word in idx_tok.items():\n",
    "    word_vec[word] = t1[i]"
   ]
  },
  {
   "cell_type": "code",
   "execution_count": 16,
   "id": "f8e1d553",
   "metadata": {},
   "outputs": [
    {
     "data": {
      "text/plain": [
       "[0.03199922665953636,\n",
       " -1.1645514965057373,\n",
       " -0.6643750667572021,\n",
       " -0.6508510112762451,\n",
       " -0.5549589395523071,\n",
       " -1.6239607334136963,\n",
       " -0.8143494725227356,\n",
       " -0.5344766974449158,\n",
       " -0.5290297269821167,\n",
       " 1.097898244857788,\n",
       " -1.0795907974243164,\n",
       " 1.3724521398544312,\n",
       " -1.5024207830429077,\n",
       " 2.021359920501709,\n",
       " -1.1349811553955078,\n",
       " -0.07028519362211227,\n",
       " -0.5974878072738647,\n",
       " 0.5872141718864441,\n",
       " -0.6305249929428101,\n",
       " -0.03889511525630951,\n",
       " 3.0996975898742676,\n",
       " -0.9435570240020752,\n",
       " -1.941014289855957,\n",
       " -0.10299648344516754,\n",
       " -2.5138118267059326,\n",
       " -1.9073374271392822,\n",
       " 1.045264482498169,\n",
       " 0.057466115802526474,\n",
       " -1.8676754236221313,\n",
       " 1.8604719638824463,\n",
       " 0.879635214805603,\n",
       " 1.6824465990066528,\n",
       " 1.1966537237167358,\n",
       " -0.11161638051271439,\n",
       " 1.901508092880249,\n",
       " 0.947869062423706,\n",
       " 1.1724170446395874,\n",
       " 1.2869617938995361,\n",
       " 1.128455638885498,\n",
       " 0.13767606019973755,\n",
       " 0.7097157835960388,\n",
       " 0.4342864453792572,\n",
       " -1.6140156984329224,\n",
       " 1.1452828645706177,\n",
       " -1.1261389255523682,\n",
       " -0.051310889422893524,\n",
       " 0.36479201912879944,\n",
       " 0.2650567293167114,\n",
       " 0.8648857474327087,\n",
       " -0.19831930100917816,\n",
       " 2.234200954437256,\n",
       " 0.017590194940567017,\n",
       " -0.43845292925834656,\n",
       " 0.6007190346717834,\n",
       " -0.19308583438396454,\n",
       " 0.1794908344745636,\n",
       " -0.3649997413158417,\n",
       " -0.03536428138613701,\n",
       " 1.0851963758468628,\n",
       " 0.8369733691215515,\n",
       " 1.5118180513381958,\n",
       " 1.5900660753250122,\n",
       " 0.12663987278938293,\n",
       " 2.181851387023926,\n",
       " 1.266638159751892,\n",
       " -2.713604688644409,\n",
       " 0.10200580954551697,\n",
       " 0.8353739380836487,\n",
       " 0.8554940223693848,\n",
       " -0.3482379913330078,\n",
       " 1.693563461303711,\n",
       " -0.6709369421005249,\n",
       " 0.8800386786460876,\n",
       " 0.4299822449684143,\n",
       " -0.8702622056007385,\n",
       " 0.6111384034156799,\n",
       " -0.5553248524665833,\n",
       " -0.19684354960918427,\n",
       " 0.6056411862373352,\n",
       " -1.49777090549469,\n",
       " 1.5539205074310303,\n",
       " 1.2603352069854736,\n",
       " -0.4415147304534912,\n",
       " -1.185416340827942,\n",
       " -0.8579870462417603,\n",
       " -0.07463846355676651,\n",
       " 0.9185448288917542,\n",
       " 0.015486160293221474,\n",
       " 1.141528606414795,\n",
       " -0.7175180912017822,\n",
       " -0.9429938793182373,\n",
       " 0.21094141900539398,\n",
       " 0.21595312654972076,\n",
       " 1.233264684677124,\n",
       " 0.9987787008285522,\n",
       " -0.6861964464187622,\n",
       " -0.6951735615730286,\n",
       " 0.6945977807044983,\n",
       " 1.1783496141433716,\n",
       " -1.2137444019317627,\n",
       " 0.6115373969078064,\n",
       " 0.10128681361675262,\n",
       " -1.398966670036316,\n",
       " -0.44574224948883057,\n",
       " 0.2383897602558136,\n",
       " 1.3603713512420654,\n",
       " 0.6548846364021301,\n",
       " -0.3130406439304352,\n",
       " 1.5306106805801392,\n",
       " 0.3918250799179077,\n",
       " 0.39955905079841614,\n",
       " -0.6097456216812134,\n",
       " -0.7449485659599304,\n",
       " 0.25951364636421204,\n",
       " -0.4638392925262451,\n",
       " -0.6065381765365601,\n",
       " -0.1622113287448883,\n",
       " -0.3677186071872711,\n",
       " -1.6383360624313354,\n",
       " 0.315608948469162,\n",
       " 0.733568549156189,\n",
       " -1.6692737340927124,\n",
       " -0.19774401187896729,\n",
       " 0.21265697479248047,\n",
       " -0.3337280750274658,\n",
       " -0.23637932538986206,\n",
       " 1.1934447288513184,\n",
       " -0.4321710467338562,\n",
       " 0.9190471768379211,\n",
       " -0.9349792003631592,\n",
       " 0.0016822580946609378,\n",
       " -1.402419090270996,\n",
       " 1.1112158298492432,\n",
       " 0.5956276655197144,\n",
       " -0.1778692901134491,\n",
       " -0.08347546309232712,\n",
       " 0.04359849542379379,\n",
       " -0.40612146258354187,\n",
       " -0.5932755470275879,\n",
       " -0.028227251023054123,\n",
       " 2.6393537521362305,\n",
       " 0.7626294493675232,\n",
       " -0.6541475653648376,\n",
       " -0.4817953109741211,\n",
       " 0.9097822904586792,\n",
       " 0.0937696024775505,\n",
       " -0.6110430359840393,\n",
       " 0.38079893589019775,\n",
       " 2.103379726409912,\n",
       " 1.7108006477355957,\n",
       " -0.3454083204269409,\n",
       " 1.1804378032684326,\n",
       " 0.10154829174280167,\n",
       " 1.7455569505691528,\n",
       " -0.6884706616401672,\n",
       " 1.1122381687164307,\n",
       " -0.33032670617103577,\n",
       " -1.2376649379730225,\n",
       " -0.6734206676483154,\n",
       " -1.826391577720642,\n",
       " 0.8838773965835571,\n",
       " -0.46165135502815247,\n",
       " 2.0001327991485596,\n",
       " -0.6196628212928772,\n",
       " -0.4965074062347412,\n",
       " 2.2430100440979004,\n",
       " 0.945179283618927,\n",
       " -0.6417041420936584,\n",
       " -0.26359981298446655,\n",
       " -1.577674388885498,\n",
       " -0.44466283917427063,\n",
       " -0.9033129811286926,\n",
       " -0.6149125099182129,\n",
       " -0.36655890941619873,\n",
       " -0.8417440056800842,\n",
       " -0.904534101486206,\n",
       " -0.23799976706504822,\n",
       " 1.3029950857162476,\n",
       " 0.8038060069084167,\n",
       " -0.06941788643598557,\n",
       " -0.35582253336906433,\n",
       " -1.306968092918396,\n",
       " -0.5476287603378296,\n",
       " 0.7681227922439575,\n",
       " -0.5779574513435364,\n",
       " 1.1975754499435425,\n",
       " -0.557197630405426,\n",
       " -1.8774582147598267,\n",
       " -0.06886142492294312,\n",
       " -0.14438888430595398,\n",
       " 1.8177937269210815,\n",
       " 1.1320669651031494,\n",
       " -0.2911698520183563,\n",
       " 1.0154621601104736,\n",
       " 0.4007622003555298,\n",
       " 1.4643397331237793,\n",
       " -0.6221197843551636,\n",
       " 0.17900148034095764,\n",
       " -1.3055002689361572,\n",
       " 0.5110656023025513,\n",
       " 0.48255059123039246,\n",
       " -0.20277296006679535,\n",
       " -0.7621148228645325,\n",
       " -0.046350009739398956,\n",
       " 0.4943285882472992,\n",
       " -0.8173648118972778,\n",
       " -0.38757678866386414,\n",
       " 0.07429445534944534,\n",
       " 0.45771580934524536,\n",
       " -1.0508304834365845,\n",
       " 0.07045449316501617,\n",
       " 0.08140140771865845,\n",
       " -0.8054543137550354,\n",
       " 1.0599427223205566,\n",
       " -0.4299798011779785,\n",
       " -1.079016089439392,\n",
       " 0.8731686472892761,\n",
       " 1.788703203201294,\n",
       " 2.123995780944824,\n",
       " 0.18919457495212555,\n",
       " -0.35056647658348083,\n",
       " -0.2755940854549408,\n",
       " 0.6069296598434448,\n",
       " -0.656529426574707,\n",
       " -0.5479617714881897,\n",
       " -0.2498159408569336,\n",
       " 0.16685810685157776,\n",
       " -0.7656916379928589,\n",
       " 0.3180171251296997,\n",
       " -0.6128186583518982,\n",
       " -0.08050881326198578,\n",
       " 0.5796244144439697,\n",
       " 2.539783000946045,\n",
       " 1.2287652492523193,\n",
       " 1.2766212224960327,\n",
       " 0.47494637966156006,\n",
       " -0.6644724607467651,\n",
       " -0.6104592084884644,\n",
       " 0.0689578503370285,\n",
       " 1.412014126777649,\n",
       " 0.08732572942972183,\n",
       " 0.659239649772644,\n",
       " -0.5217243432998657,\n",
       " -0.41367337107658386,\n",
       " -0.2375262826681137,\n",
       " 1.4806665182113647,\n",
       " 0.9204616546630859,\n",
       " 0.04110204428434372,\n",
       " 0.3718019127845764,\n",
       " -1.9983875751495361,\n",
       " -1.3345351219177246,\n",
       " 0.31210586428642273,\n",
       " 1.404507040977478,\n",
       " -1.5188108682632446,\n",
       " 1.1292122602462769,\n",
       " 0.41602882742881775,\n",
       " 1.457101583480835,\n",
       " -1.3003184795379639,\n",
       " 1.5613765716552734,\n",
       " 0.20485138893127441,\n",
       " 1.123268961906433,\n",
       " -0.34559354186058044,\n",
       " 0.30207258462905884,\n",
       " 0.8181531429290771,\n",
       " 0.1170877069234848,\n",
       " 0.4496239423751831,\n",
       " -0.7354676127433777,\n",
       " 0.15171749889850616,\n",
       " 0.7875497341156006,\n",
       " 0.7146025896072388,\n",
       " 0.8893259167671204,\n",
       " 0.6532053351402283,\n",
       " 1.511447548866272,\n",
       " 0.6920391917228699,\n",
       " 0.5922998785972595,\n",
       " -0.37975457310676575,\n",
       " -0.3183031380176544,\n",
       " 0.3097120225429535,\n",
       " 0.07016701996326447,\n",
       " 1.596163272857666,\n",
       " 1.318060040473938,\n",
       " 2.951855421066284,\n",
       " 1.3228074312210083,\n",
       " 0.9371426105499268,\n",
       " -0.6769523620605469,\n",
       " -1.1187024116516113,\n",
       " 2.664740800857544,\n",
       " 1.2515846490859985,\n",
       " 0.019980262964963913,\n",
       " -0.6287581324577332,\n",
       " -0.4727575480937958,\n",
       " 0.8480855226516724,\n",
       " 0.14949680864810944,\n",
       " -0.0017964234575629234,\n",
       " -0.03320108726620674,\n",
       " -0.7836344242095947,\n",
       " -0.8639127612113953,\n",
       " 0.6927828192710876,\n",
       " -1.9154399633407593,\n",
       " 0.9638418555259705]"
      ]
     },
     "execution_count": 16,
     "metadata": {},
     "output_type": "execute_result"
    }
   ],
   "source": [
    "word_vec['excellent']"
   ]
  },
  {
   "cell_type": "code",
   "execution_count": 17,
   "id": "333188cd",
   "metadata": {
    "scrolled": true
   },
   "outputs": [],
   "source": [
    "with open('300d_myword2vec_lemma_train.json', 'w') as json_out:\n",
    "    json_out.write(json.dumps(word_vec, indent=4))"
   ]
  },
  {
   "cell_type": "markdown",
   "id": "7eaf4ebd",
   "metadata": {},
   "source": [
    "## 200 dimensions word2vec"
   ]
  },
  {
   "cell_type": "code",
   "execution_count": 18,
   "id": "f1d4a1b4",
   "metadata": {},
   "outputs": [
    {
     "data": {
      "text/plain": [
       "(233015355, 245526510)"
      ]
     },
     "execution_count": 18,
     "metadata": {},
     "output_type": "execute_result"
    }
   ],
   "source": [
    "# Set the embedding size to be 200 and the window size to be 5. Can also consider a minimum word count of 1. \n",
    "w2v_model_200 = models.Word2Vec(min_count=1, window=5, vector_size=200)\n",
    "#build vocabulary table\n",
    "w2v_model_200.build_vocab(sentence, progress_per=25000)\n",
    "# train word2vec model\n",
    "w2v_model_200.train(sentence, total_examples=w2v_model_200.corpus_count, epochs=30, report_delay=1)"
   ]
  },
  {
   "cell_type": "code",
   "execution_count": 19,
   "id": "d367f35e",
   "metadata": {},
   "outputs": [
    {
     "name": "stdout",
     "output_type": "stream",
     "text": [
      "0.802\n"
     ]
    }
   ],
   "source": [
    "# example_test: excellent ~ outstanding\n",
    "word_similarity2 = w2v_model_200.wv.similarity('outstanding','excellent')\n",
    "print(round(word_similarity2,3))"
   ]
  },
  {
   "cell_type": "code",
   "execution_count": 20,
   "id": "ab4827a0",
   "metadata": {},
   "outputs": [
    {
     "name": "stdout",
     "output_type": "stream",
     "text": [
      "70903\n"
     ]
    }
   ],
   "source": [
    "vocab_size1 = len(w2v_model_200.wv)\n",
    "print(vocab_size1)"
   ]
  },
  {
   "cell_type": "code",
   "execution_count": 21,
   "id": "c226ce70",
   "metadata": {},
   "outputs": [],
   "source": [
    "embedding_matrix1 = np.zeros((vocab_size1, 200))\n",
    "count = 0\n",
    "for i, word in idx_tok.items():\n",
    "    if word in w2v_model_200.wv:\n",
    "        embedding_matrix1[i] = w2v_model_200.wv[word]\n",
    "    else:\n",
    "        count += 1"
   ]
  },
  {
   "cell_type": "code",
   "execution_count": 22,
   "id": "d819271a",
   "metadata": {},
   "outputs": [
    {
     "data": {
      "text/plain": [
       "(70903, 200)"
      ]
     },
     "execution_count": 22,
     "metadata": {},
     "output_type": "execute_result"
    }
   ],
   "source": [
    "embedding_matrix1.shape"
   ]
  },
  {
   "cell_type": "code",
   "execution_count": 23,
   "id": "bd6a5159",
   "metadata": {},
   "outputs": [],
   "source": [
    "t2 = embedding_matrix1.tolist()"
   ]
  },
  {
   "cell_type": "code",
   "execution_count": 24,
   "id": "58cd515d",
   "metadata": {},
   "outputs": [],
   "source": [
    "word_vec1 = {}\n",
    "for i, word in idx_tok.items():\n",
    "    word_vec1[word] = t2[i]"
   ]
  },
  {
   "cell_type": "code",
   "execution_count": 25,
   "id": "c0ca6857",
   "metadata": {},
   "outputs": [],
   "source": [
    "with open('200d_myword2vec_lemma_train.json', 'w') as json_out:\n",
    "    json_out.write(json.dumps(word_vec1, indent=4))"
   ]
  },
  {
   "cell_type": "code",
   "execution_count": null,
   "id": "0e316179",
   "metadata": {},
   "outputs": [],
   "source": []
  }
 ],
 "metadata": {
  "kernelspec": {
   "display_name": "Python 3 (ipykernel)",
   "language": "python",
   "name": "python3"
  },
  "language_info": {
   "codemirror_mode": {
    "name": "ipython",
    "version": 3
   },
   "file_extension": ".py",
   "mimetype": "text/x-python",
   "name": "python",
   "nbconvert_exporter": "python",
   "pygments_lexer": "ipython3",
   "version": "3.8.8"
  }
 },
 "nbformat": 4,
 "nbformat_minor": 5
}
