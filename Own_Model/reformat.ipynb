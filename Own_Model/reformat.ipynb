{
 "cells": [
  {
   "cell_type": "code",
   "execution_count": 1,
   "metadata": {},
   "outputs": [],
   "source": [
    "import json"
   ]
  },
  {
   "cell_type": "code",
   "execution_count": 2,
   "metadata": {},
   "outputs": [],
   "source": [
    "def load_data(train_path):\n",
    "    with open(train_path) as f:\n",
    "        train = json.load(f)\n",
    "    \n",
    "    return train, set(list(train.keys()))"
   ]
  },
  {
   "cell_type": "code",
   "execution_count": 3,
   "metadata": {},
   "outputs": [],
   "source": [
    "def write_data(output_path, train, all_keys):\n",
    "    with open(output_path, 'w') as f:\n",
    "        for key in all_keys:\n",
    "            row = key + ' ' + ','.join([str(x) for x in train[key]]) + '\\n'\n",
    "            f.write(row)"
   ]
  },
  {
   "cell_type": "code",
   "execution_count": 4,
   "metadata": {},
   "outputs": [],
   "source": [
    "train, all_keys = load_data('300d_myword2vec_lemma_train.json')\n",
    "write_data('own_lemma.txt', train, all_keys)"
   ]
  },
  {
   "cell_type": "code",
   "execution_count": 5,
   "metadata": {},
   "outputs": [],
   "source": [
    "train, all_keys = load_data('300d_myword2vec_no_lemma_train.json')\n",
    "write_data('own_no_lemma.txt', train, all_keys)"
   ]
  },
  {
   "cell_type": "code",
   "execution_count": 4,
   "metadata": {},
   "outputs": [],
   "source": [
    "train, all_keys = load_data('200d_myword2vec_lemma_train.json')\n",
    "write_data('own200_lemma.txt', train, all_keys)"
   ]
  },
  {
   "cell_type": "code",
   "execution_count": 5,
   "metadata": {},
   "outputs": [],
   "source": [
    "train, all_keys = load_data('200d_myword2vec_no_lemma_train.json')\n",
    "write_data('own200_no_lemma.txt', train, all_keys)"
   ]
  },
  {
   "cell_type": "code",
   "execution_count": null,
   "metadata": {},
   "outputs": [],
   "source": []
  }
 ],
 "metadata": {
  "kernelspec": {
   "display_name": "Python 3",
   "language": "python",
   "name": "python3"
  },
  "language_info": {
   "codemirror_mode": {
    "name": "ipython",
    "version": 3
   },
   "file_extension": ".py",
   "mimetype": "text/x-python",
   "name": "python",
   "nbconvert_exporter": "python",
   "pygments_lexer": "ipython3",
   "version": "3.8.8"
  }
 },
 "nbformat": 4,
 "nbformat_minor": 2
}
