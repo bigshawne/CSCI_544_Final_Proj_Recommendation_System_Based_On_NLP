{
 "cells": [
  {
   "cell_type": "code",
   "execution_count": 6,
   "metadata": {
    "collapsed": true
   },
   "outputs": [],
   "source": [
    "### get the review preprocessing using google word2vec \n",
    "import gensim.downloader as api\n",
    "wv_model = api.load('word2vec-google-news-300') "
   ]
  },
  {
   "cell_type": "code",
   "execution_count": 12,
   "metadata": {
    "collapsed": true
   },
   "outputs": [],
   "source": [
    "\n",
    "import json\n",
    "import numpy as np\n",
    "from tqdm import tqdm\n",
    "import gensim.downloader as api\n",
    "\n",
    "\n",
    "DATA_PATH = 'data'\n",
    "TRAIN_NO_LEMMA = '/no_lemma_train.json'\n",
    "TRAIN_W_LEMMA = '/lemma_train.json'\n",
    "TEST_NO_LEMMA = '/no_lemma_test.json'\n",
    "TEST_W_LEMMA = '/lemma_test.json'\n",
    "EMBED_PATH = 'google'\n",
    "G_NO_LEMMA_TRAIN = '/google_no_lemma_train.json'\n",
    "G_W_LEMMA_TRAIN = '/google_w_lemma_train.json'\n",
    "G_NO_LEMMA_TEST = '/google_no_lemma_test.json'\n",
    "G_W_LEMMA_TEST = '/google_w_lemma_test.json'\n",
    "\n",
    "def get_embed(file_path, w2v, output_file_path):\n",
    "    with open(file_path, 'r') as input:\n",
    "        data = json.load(input)\n",
    "    embed_data = {}\n",
    "    \n",
    "    unique_word = []\n",
    "    for r_id, sentence in tqdm(list(data.items())):\n",
    "        for word in sentence:\n",
    "            unique_word.append(word)\n",
    "            \n",
    "    for i in set(unique_word):\n",
    "        embed_data[i] = embed_word(i, w2v)\n",
    "\n",
    "    with open(output_file_path, 'w') as outfile:\n",
    "        json.dump(embed_data, outfile, indent=2)\n",
    "\n",
    "    return embed_data\n",
    "\n",
    "\n",
    "def embed_word(word, embedding_weight):\n",
    "    if word not in embedding_weight and word.lower() not in embedding_weight:\n",
    "        return np.random.normal(scale=0.5, size=(300,)).tolist()\n",
    "\n",
    "    key = word if word in embedding_weight else word.lower()\n",
    "    return embedding_weight[key].tolist()\n"
   ]
  },
  {
   "cell_type": "code",
   "execution_count": 13,
   "metadata": {
    "collapsed": true
   },
   "outputs": [],
   "source": [
    "\n",
    "wv_model = api.load('word2vec-google-news-300') \n",
    "inputs = [TRAIN_NO_LEMMA, TRAIN_W_LEMMA, TEST_NO_LEMMA, TEST_W_LEMMA]\n",
    "outputs = [G_NO_LEMMA_TRAIN, G_W_LEMMA_TRAIN, G_NO_LEMMA_TEST, G_W_LEMMA_TEST]\n"
   ]
  },
  {
   "cell_type": "code",
   "execution_count": 16,
   "metadata": {},
   "outputs": [
    {
     "name": "stderr",
     "output_type": "stream",
     "text": [
      "100%|██████████| 25000/25000 [00:00<00:00, 101935.91it/s]\n",
      "IOPub data rate exceeded.\n",
      "The notebook server will temporarily stop sending output\n",
      "to the client in order to avoid crashing it.\n",
      "To change this limit, set the config variable\n",
      "`--NotebookApp.iopub_data_rate_limit`.\n"
     ]
    }
   ],
   "source": [
    "idx = 3\n",
    "get_embed(DATA_PATH+inputs[idx], wv_model, EMBED_PATH+outputs[idx])"
   ]
  },
  {
   "cell_type": "code",
   "execution_count": 18,
   "metadata": {},
   "outputs": [
    {
     "name": "stderr",
     "output_type": "stream",
     "text": [
      "100%|██████████| 25000/25000 [00:00<00:00, 76275.27it/s]\n",
      "IOPub data rate exceeded.\n",
      "The notebook server will temporarily stop sending output\n",
      "to the client in order to avoid crashing it.\n",
      "To change this limit, set the config variable\n",
      "`--NotebookApp.iopub_data_rate_limit`.\n"
     ]
    }
   ],
   "source": [
    "idx = 2\n",
    "get_embed(DATA_PATH+inputs[idx], wv_model, EMBED_PATH+outputs[idx])"
   ]
  },
  {
   "cell_type": "code",
   "execution_count": 19,
   "metadata": {},
   "outputs": [
    {
     "name": "stderr",
     "output_type": "stream",
     "text": [
      "100%|██████████| 100000/100000 [00:01<00:00, 85822.84it/s]\n",
      "IOPub data rate exceeded.\n",
      "The notebook server will temporarily stop sending output\n",
      "to the client in order to avoid crashing it.\n",
      "To change this limit, set the config variable\n",
      "`--NotebookApp.iopub_data_rate_limit`.\n"
     ]
    }
   ],
   "source": [
    "idx = 1\n",
    "get_embed(DATA_PATH+inputs[idx], wv_model, EMBED_PATH+outputs[idx])"
   ]
  },
  {
   "cell_type": "code",
   "execution_count": 20,
   "metadata": {},
   "outputs": [
    {
     "name": "stderr",
     "output_type": "stream",
     "text": [
      "100%|██████████| 100000/100000 [00:01<00:00, 75492.04it/s]\n",
      "IOPub data rate exceeded.\n",
      "The notebook server will temporarily stop sending output\n",
      "to the client in order to avoid crashing it.\n",
      "To change this limit, set the config variable\n",
      "`--NotebookApp.iopub_data_rate_limit`.\n"
     ]
    }
   ],
   "source": [
    "idx = 0\n",
    "get_embed(DATA_PATH+inputs[idx], wv_model, EMBED_PATH+outputs[idx])"
   ]
  },
  {
   "cell_type": "code",
   "execution_count": null,
   "metadata": {
    "collapsed": true
   },
   "outputs": [],
   "source": []
  }
 ],
 "metadata": {
  "kernelspec": {
   "display_name": "Python 3",
   "language": "python",
   "name": "python3"
  },
  "language_info": {
   "codemirror_mode": {
    "name": "ipython",
    "version": 3
   },
   "file_extension": ".py",
   "mimetype": "text/x-python",
   "name": "python",
   "nbconvert_exporter": "python",
   "pygments_lexer": "ipython3",
   "version": "3.6.3"
  }
 },
 "nbformat": 4,
 "nbformat_minor": 2
}
