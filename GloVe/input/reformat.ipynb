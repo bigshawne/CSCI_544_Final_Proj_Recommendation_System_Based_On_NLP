{
 "cells": [
  {
   "cell_type": "code",
   "execution_count": 5,
   "metadata": {},
   "outputs": [],
   "source": [
    "import json"
   ]
  },
  {
   "cell_type": "code",
   "execution_count": 2,
   "metadata": {},
   "outputs": [],
   "source": [
    "def load_data(train_path, test_path):\n",
    "    with open(train_path) as f:\n",
    "        train = json.load(f)\n",
    "    with open(test_path) as f:\n",
    "        test = json.load(f)\n",
    "    \n",
    "    return train, test, set(list(train.keys()) + list(test.keys()))"
   ]
  },
  {
   "cell_type": "code",
   "execution_count": 8,
   "metadata": {},
   "outputs": [],
   "source": [
    "def write_data(output_path, train, test, all_keys):\n",
    "    with open(output_path, 'w') as f:\n",
    "        for key in all_keys:\n",
    "            if key in train.keys():\n",
    "                row = key + ' ' + ','.join([str(x) for x in train[key]]) + '\\n'\n",
    "            else:\n",
    "                row = key + ' ' + ','.join([str(x) for x in test[key]]) + '\\n'\n",
    "            f.write(row)"
   ]
  },
  {
   "cell_type": "code",
   "execution_count": 9,
   "metadata": {},
   "outputs": [],
   "source": [
    "train, test, all_keys = load_data('glove_lemma_train.json', 'glove_lemma_test.json')\n",
    "write_data('glove_lemma.txt', train, test, all_keys)"
   ]
  },
  {
   "cell_type": "code",
   "execution_count": 10,
   "metadata": {},
   "outputs": [],
   "source": [
    "train, test, all_keys = load_data('glove_no_lemma_train.json', 'glove_no_lemma_test.json')\n",
    "write_data('glove_no_lemma.txt', train, test, all_keys)"
   ]
  },
  {
   "cell_type": "code",
   "execution_count": null,
   "metadata": {},
   "outputs": [],
   "source": []
  }
 ],
 "metadata": {
  "kernelspec": {
   "display_name": "Python 3",
   "language": "python",
   "name": "python3"
  },
  "language_info": {
   "codemirror_mode": {
    "name": "ipython",
    "version": 3
   },
   "file_extension": ".py",
   "mimetype": "text/x-python",
   "name": "python",
   "nbconvert_exporter": "python",
   "pygments_lexer": "ipython3",
   "version": "3.7.4"
  }
 },
 "nbformat": 4,
 "nbformat_minor": 2
}
